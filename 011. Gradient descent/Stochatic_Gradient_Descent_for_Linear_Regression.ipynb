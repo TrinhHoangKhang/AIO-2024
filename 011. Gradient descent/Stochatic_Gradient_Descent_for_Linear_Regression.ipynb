{
  "nbformat": 4,
  "nbformat_minor": 0,
  "metadata": {
    "colab": {
      "provenance": [],
      "authorship_tag": "ABX9TyM4lvDhLY6ny1gOcEQiiAMt",
      "include_colab_link": true
    },
    "kernelspec": {
      "name": "python3",
      "display_name": "Python 3"
    },
    "language_info": {
      "name": "python"
    }
  },
  "cells": [
    {
      "cell_type": "markdown",
      "metadata": {
        "id": "view-in-github",
        "colab_type": "text"
      },
      "source": [
        "<a href=\"https://colab.research.google.com/github/TrinhHoangKhang/AIO-2024/blob/main/011.%20Gradient%20descent/Stochatic_Gradient_Descent_for_Linear_Regression.ipynb\" target=\"_parent\"><img src=\"https://colab.research.google.com/assets/colab-badge.svg\" alt=\"Open In Colab\"/></a>"
      ]
    },
    {
      "cell_type": "code",
      "execution_count": 4,
      "metadata": {
        "id": "TQUvxLEY4rvg"
      },
      "outputs": [],
      "source": [
        "import numpy as np\n",
        "import pandas as pd\n",
        "import random\n",
        "import matplotlib.pyplot as plt"
      ]
    },
    {
      "cell_type": "markdown",
      "source": [
        "Model: $y = w_1*x_1 + w_2*x_2 + w_3*x_3 + ...$ <br>\n",
        "Note: The dataset must be added a 1s column that count as a feature"
      ],
      "metadata": {
        "id": "WlkjMYxFhH1N"
      }
    },
    {
      "cell_type": "code",
      "source": [
        "def initialize_params(number_of_features):\n",
        "  return np.random.normal(0, 1, (number_of_features))\n",
        "\n",
        "def compute_loss(w, xi, yi):\n",
        "  return (np.dot(w, xi) - yi)**2\n",
        "\n",
        "def compute_gradient(w, xi, yi):\n",
        " return np.dot(xi, 2 * (np.dot(w, xi) - yi))\n",
        "\n",
        "def update_weight(w, grad, lr):\n",
        "  w = w - lr * grad\n",
        "  return w\n",
        "\n",
        "def stochatic_linear_regression(X, y, lr=1e-5, max_epochs=50):\n",
        "  number_of_samples = len(X)\n",
        "  number_of_features = len(X[0])\n",
        "\n",
        "  # Initialize parameter\n",
        "  w = initialize_params(number_of_features)\n",
        "\n",
        "  losses = [] # For logging\n",
        "  for _ in range(max_epochs):\n",
        "    for i in range(number_of_samples):\n",
        "      # Get a sample in the dataset\n",
        "      xi = X[i]\n",
        "      yi = y[i]\n",
        "\n",
        "      # Compute the loss function of that sample\n",
        "      loss = compute_loss(w, xi, yi)  # This step is for logging, you dont actually need it\n",
        "\n",
        "      # Compute the gradient\n",
        "      grad = compute_gradient(w, xi, yi)\n",
        "\n",
        "      # Update the parameter\n",
        "      w = update_weight(w, grad, lr)\n",
        "\n",
        "      # Log\n",
        "      losses.append(loss)\n",
        "\n",
        "  return w, losses"
      ],
      "metadata": {
        "id": "-zyr0FEoc7OD"
      },
      "execution_count": 8,
      "outputs": []
    }
  ]
}