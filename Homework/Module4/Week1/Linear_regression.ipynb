{
  "nbformat": 4,
  "nbformat_minor": 0,
  "metadata": {
    "colab": {
      "provenance": [],
      "authorship_tag": "ABX9TyN7EisKkwd/PslAX7epwPgO",
      "include_colab_link": true
    },
    "kernelspec": {
      "name": "python3",
      "display_name": "Python 3"
    },
    "language_info": {
      "name": "python"
    }
  },
  "cells": [
    {
      "cell_type": "markdown",
      "metadata": {
        "id": "view-in-github",
        "colab_type": "text"
      },
      "source": [
        "<a href=\"https://colab.research.google.com/github/TrinhHoangKhang/AIO-2024/blob/main/Homework/Module4/Week1/Linear_regression.ipynb\" target=\"_parent\"><img src=\"https://colab.research.google.com/assets/colab-badge.svg\" alt=\"Open In Colab\"/></a>"
      ]
    },
    {
      "cell_type": "code",
      "execution_count": 84,
      "metadata": {
        "id": "G0gCD2SzkwXl"
      },
      "outputs": [],
      "source": [
        "import numpy as np\n",
        "import pandas as pd\n",
        "import random\n",
        "import matplotlib.pyplot as plt"
      ]
    },
    {
      "cell_type": "code",
      "source": [
        "# Get the data\n",
        "!gdown 1FdydikIZfRaENz3CLaZT24Deyc4KvZO3"
      ],
      "metadata": {
        "colab": {
          "base_uri": "https://localhost:8080/"
        },
        "id": "ptbDrZyXk9w8",
        "outputId": "af054b08-94e1-41cc-d032-cafd73e17ab4"
      },
      "execution_count": 2,
      "outputs": [
        {
          "output_type": "stream",
          "name": "stdout",
          "text": [
            "Downloading...\n",
            "From: https://drive.google.com/uc?id=1FdydikIZfRaENz3CLaZT24Deyc4KvZO3\n",
            "To: /content/advertising.csv\n",
            "\r  0% 0.00/4.06k [00:00<?, ?B/s]\r100% 4.06k/4.06k [00:00<00:00, 14.5MB/s]\n"
          ]
        }
      ]
    },
    {
      "cell_type": "code",
      "source": [
        "# Read the csv\n",
        "df = pd.read_csv('/content/advertising.csv')\n",
        "df.info()\n",
        "print(df.head(5))"
      ],
      "metadata": {
        "colab": {
          "base_uri": "https://localhost:8080/"
        },
        "id": "xg96XF58lCm0",
        "outputId": "0366e9a3-ae4b-44da-99ca-b96dfb97a12e"
      },
      "execution_count": 3,
      "outputs": [
        {
          "output_type": "stream",
          "name": "stdout",
          "text": [
            "<class 'pandas.core.frame.DataFrame'>\n",
            "RangeIndex: 200 entries, 0 to 199\n",
            "Data columns (total 4 columns):\n",
            " #   Column     Non-Null Count  Dtype  \n",
            "---  ------     --------------  -----  \n",
            " 0   TV         200 non-null    float64\n",
            " 1   Radio      200 non-null    float64\n",
            " 2   Newspaper  200 non-null    float64\n",
            " 3   Sales      200 non-null    float64\n",
            "dtypes: float64(4)\n",
            "memory usage: 6.4 KB\n",
            "      TV  Radio  Newspaper  Sales\n",
            "0  230.1   37.8       69.2   22.1\n",
            "1   44.5   39.3       45.1   10.4\n",
            "2   17.2   45.9       69.3   12.0\n",
            "3  151.5   41.3       58.5   16.5\n",
            "4  180.8   10.8       58.4   17.9\n"
          ]
        }
      ]
    },
    {
      "cell_type": "code",
      "source": [
        "# Prepare X, y\n",
        "X = df.iloc[:, :-1].values\n",
        "y = df.iloc[:, -1].values\n",
        "print(X.shape)\n",
        "print(y.shape)"
      ],
      "metadata": {
        "colab": {
          "base_uri": "https://localhost:8080/"
        },
        "id": "pt4Xd3WZlcYi",
        "outputId": "43292e03-4609-401c-c268-93e98b18ce2b"
      },
      "execution_count": 44,
      "outputs": [
        {
          "output_type": "stream",
          "name": "stdout",
          "text": [
            "(200, 3)\n",
            "(200,)\n"
          ]
        }
      ]
    },
    {
      "cell_type": "code",
      "source": [
        "# Question 1\n",
        "ques1 = [ sum ( X [:5, 0]) , sum ( X [:5, 1]) , sum ( X [:5, 2]) , sum ( y [:5]) ]\n",
        "print(ques1)"
      ],
      "metadata": {
        "colab": {
          "base_uri": "https://localhost:8080/"
        },
        "id": "Vyypp6kol2dQ",
        "outputId": "3470189c-3571-42e6-8848-9c43841feb3d"
      },
      "execution_count": 16,
      "outputs": [
        {
          "output_type": "stream",
          "name": "stdout",
          "text": [
            "[624.1, 175.10000000000002, 300.5, 78.9]\n"
          ]
        }
      ]
    },
    {
      "cell_type": "markdown",
      "source": [
        "---"
      ],
      "metadata": {
        "id": "es1aMh0SoRUD"
      }
    },
    {
      "cell_type": "code",
      "source": [
        "def initialize_params():\n",
        "  return (0.016992259082509283 , 0.0070783670518262355 , -0.002307860847821344 , 0)\n",
        "\n",
        "def predict(x1, x2, x3, w1, w2, w3, b):\n",
        "  return x1 * w1 + x2 * w2 + x3 * w3 + b\n",
        "\n",
        "def compute_loss_mse(y, y_hat):\n",
        "  return (y_hat - y)**2\n",
        "\n",
        "def compute_gradient_wi(x, y, y_hat):\n",
        "  return 2 * x * (y_hat - y)\n",
        "\n",
        "def compute_gradient_b(y, y_hat):\n",
        "  return 2 * (y_hat - y)\n",
        "\n",
        "def update_weight_wi(wi, dl_dwi, lr):\n",
        "  w_new = wi - lr * dl_dwi\n",
        "  return w_new\n",
        "\n",
        "def update_weight_b(b, dl_db, lr):\n",
        "  w_new = b - lr * dl_db\n",
        "  return w_new\n",
        "\n",
        "def implement_linear_regression(X_data, y_data, epoch_max=50, lr=1e-5):\n",
        "    losses = []\n",
        "\n",
        "    w1, w2, w3, b = initialize_params()\n",
        "    N = len(y_data)\n",
        "\n",
        "    for epoch in range(epoch_max):\n",
        "        for i in range(N):\n",
        "            # Get a sample\n",
        "            x1 = X_data[i][0]\n",
        "            x2 = X_data[i][1]\n",
        "            x3 = X_data[i][2]\n",
        "            y = y_data[i]\n",
        "\n",
        "            # Compute output\n",
        "            y_hat = predict(x1, x2, x3, w1, w2, w3, b)\n",
        "\n",
        "            # Compute loss\n",
        "            loss = compute_loss_mse(y, y_hat)\n",
        "\n",
        "            # Compute gradient w1, w2, w3, b\n",
        "            dl_dw1 = compute_gradient_wi(x1, y, y_hat)\n",
        "            dl_dw2 = compute_gradient_wi(x2, y, y_hat)\n",
        "            dl_dw3 = compute_gradient_wi(x3, y, y_hat)\n",
        "            dl_db = compute_gradient_b(y, y_hat)\n",
        "\n",
        "            # Update parameters\n",
        "            w1 = update_weight_wi(w1, dl_dw1, lr)\n",
        "            w2 = update_weight_wi(w2, dl_dw2, lr)\n",
        "            w3 = update_weight_wi(w3, dl_dw3, lr)\n",
        "            b = update_weight_b(b, dl_db, lr)\n",
        "\n",
        "            # Logging\n",
        "            losses.append(loss)\n",
        "\n",
        "    return w1, w2, w3, b, losses\n"
      ],
      "metadata": {
        "id": "UZ8QDPfgoQKE"
      },
      "execution_count": 41,
      "outputs": []
    },
    {
      "cell_type": "code",
      "source": [
        "( w1 , w2 , w3 ,b , losses ) = implement_linear_regression (X , y )"
      ],
      "metadata": {
        "id": "bjMtNdC7sn6F"
      },
      "execution_count": 45,
      "outputs": []
    },
    {
      "cell_type": "code",
      "source": [
        "plt.plot(losses[:100])"
      ],
      "metadata": {
        "colab": {
          "base_uri": "https://localhost:8080/",
          "height": 448
        },
        "id": "cmqMiG0Ps4n4",
        "outputId": "0127735f-7339-4dd4-c6bf-688dc9b559ce"
      },
      "execution_count": 46,
      "outputs": [
        {
          "output_type": "execute_result",
          "data": {
            "text/plain": [
              "[<matplotlib.lines.Line2D at 0x7a7e1d48c040>]"
            ]
          },
          "metadata": {},
          "execution_count": 46
        },
        {
          "output_type": "display_data",
          "data": {
            "text/plain": [
              "<Figure size 640x480 with 1 Axes>"
            ],
            "image/png": "[encoded data removed]"
          },
          "metadata": {}
        }
      ]
    },
    {
      "cell_type": "code",
      "source": [
        "print(w1, w2, w3, b)"
      ],
      "metadata": {
        "colab": {
          "base_uri": "https://localhost:8080/"
        },
        "id": "YGssOKtCuhrN",
        "outputId": "ae1a5c3c-5e1d-4c4a-d318-58e9158d5508"
      },
      "execution_count": 47,
      "outputs": [
        {
          "output_type": "stream",
          "name": "stdout",
          "text": [
            "0.07405984066396477 0.15917360263437663 0.017561197559948935 0.13924260940219846\n"
          ]
        }
      ]
    },
    {
      "cell_type": "markdown",
      "source": [
        "---"
      ],
      "metadata": {
        "id": "kUlNo-_zutdm"
      }
    },
    {
      "cell_type": "code",
      "source": [
        "tv = 19.2\n",
        "radio = 35.9\n",
        "newspaper = 51.3\n",
        "\n",
        "( w1 , w2 , w3 ,b , losses ) = implement_linear_regression (X , y , epoch_max =50 , lr =1e-5)\n",
        "sales = predict ( tv , radio , newspaper , w1 , w2 , w3 , b )\n",
        "print (f' predicted sales is { sales } ')"
      ],
      "metadata": {
        "colab": {
          "base_uri": "https://localhost:8080/"
        },
        "id": "qmr4jeuJus_t",
        "outputId": "d1816ca6-3b68-4544-9c76-0bc7e41cb9ea"
      },
      "execution_count": 50,
      "outputs": [
        {
          "output_type": "stream",
          "name": "stdout",
          "text": [
            " predicted sales is 8.176413319549823 \n"
          ]
        }
      ]
    },
    {
      "cell_type": "markdown",
      "source": [
        "---"
      ],
      "metadata": {
        "id": "jgby7LCxv29O"
      }
    },
    {
      "cell_type": "code",
      "source": [
        "def initialize_params():\n",
        "  return (0.016992259082509283 , 0.0070783670518262355 , -0.002307860847821344 , 0)\n",
        "\n",
        "def predict(x1, x2, x3, w1, w2, w3, b):\n",
        "  return x1 * w1 + x2 * w2 + x3 * w3 + b\n",
        "\n",
        "def compute_loss_mse(y, y_hat):\n",
        "  return (y_hat - y)**2\n",
        "\n",
        "def compute_gradient_wi(x, y, y_hat):\n",
        "  return 2 * x * (y_hat - y)\n",
        "\n",
        "def compute_gradient_b(y, y_hat):\n",
        "  return 2 * (y_hat - y)\n",
        "\n",
        "def update_weight_wi(wi, dl_dwi, lr):\n",
        "  w_new = wi - lr * dl_dwi\n",
        "  return w_new\n",
        "\n",
        "def update_weight_b(b, dl_db, lr):\n",
        "  w_new = b - lr * dl_db\n",
        "  return w_new\n",
        "\n",
        "def implement_linear_regression_nsamples(X_data, y_data, epoch_max=50, lr=1e-5):\n",
        "    losses = []\n",
        "\n",
        "    w1, w2, w3, b = initialize_params()\n",
        "    N = len(y_data)\n",
        "\n",
        "    for epoch in range(epoch_max):\n",
        "        total_loss = 0\n",
        "        total_dl_dw1 = 0\n",
        "        total_dl_dw2 = 0\n",
        "        total_dl_dw3 = 0\n",
        "        total_dl_db = 0\n",
        "\n",
        "        for i in range(N):\n",
        "            # Get a sample\n",
        "            x1 = X_data[i][0]\n",
        "            x2 = X_data[i][1]\n",
        "            x3 = X_data[i][2]\n",
        "            y = y_data[i]\n",
        "\n",
        "            # Compute output\n",
        "            y_hat = predict(x1, x2, x3, w1, w2, w3, b)\n",
        "\n",
        "            # Compute loss\n",
        "            loss = compute_loss_mse(y, y_hat)\n",
        "\n",
        "            # Compute gradient w1, w2, w3, b\n",
        "            dl_dw1 = compute_gradient_wi(x1, y, y_hat)\n",
        "            dl_dw2 = compute_gradient_wi(x2, y, y_hat)\n",
        "            dl_dw3 = compute_gradient_wi(x3, y, y_hat)\n",
        "            dl_db = compute_gradient_b(y, y_hat)\n",
        "\n",
        "            # Acumulate\n",
        "            total_loss += loss\n",
        "            total_dl_dw1 += dl_dw1\n",
        "            total_dl_dw2 += dl_dw2\n",
        "            total_dl_dw3 += dl_dw3\n",
        "            total_dl_db += dl_db\n",
        "\n",
        "        w1 = update_weight_wi(w1, total_dl_dw1/N, lr)\n",
        "        w2 = update_weight_wi(w2, total_dl_dw2/N, lr)\n",
        "        w3 = update_weight_wi(w3, total_dl_dw3/N, lr)\n",
        "        b = update_weight_wi(b, total_dl_db/N, lr)\n",
        "        losses.append(total_loss/N)\n",
        "\n",
        "    return w1, w2, w3, b, losses\n"
      ],
      "metadata": {
        "id": "NKthW9Gpv342"
      },
      "execution_count": 62,
      "outputs": []
    },
    {
      "cell_type": "code",
      "source": [
        "( w1 , w2 , w3 ,b , losses ) = implement_linear_regression_nsamples (X , y , epoch_max =50 , lr =1e-5)\n"
      ],
      "metadata": {
        "id": "fsyXSnixxWWe"
      },
      "execution_count": 71,
      "outputs": []
    },
    {
      "cell_type": "code",
      "source": [
        "plt.plot(losses)"
      ],
      "metadata": {
        "colab": {
          "base_uri": "https://localhost:8080/",
          "height": 448
        },
        "id": "XsdQmluExwhC",
        "outputId": "246c6d03-31a6-4390-b9f8-76c1c30529d8"
      },
      "execution_count": 69,
      "outputs": [
        {
          "output_type": "execute_result",
          "data": {
            "text/plain": [
              "[<matplotlib.lines.Line2D at 0x7a7e1cd72dd0>]"
            ]
          },
          "metadata": {},
          "execution_count": 69
        },
        {
          "output_type": "display_data",
          "data": {
            "text/plain": [
              "<Figure size 640x480 with 1 Axes>"
            ],
            "image/png": "[encoded data removed]"
          },
          "metadata": {}
        }
      ]
    },
    {
      "cell_type": "code",
      "source": [
        "print(w1, w2, w3)"
      ],
      "metadata": {
        "colab": {
          "base_uri": "https://localhost:8080/"
        },
        "id": "fqkj5t_by9VX",
        "outputId": "d10ed39d-cfd8-4a1d-e30b-3fd772d901ac"
      },
      "execution_count": 72,
      "outputs": [
        {
          "output_type": "stream",
          "name": "stdout",
          "text": [
            "0.0777391352775665 0.05644769904625777 0.04135488482198375\n"
          ]
        }
      ]
    },
    {
      "cell_type": "markdown",
      "source": [
        "---\n"
      ],
      "metadata": {
        "id": "90FVwfJEzjLn"
      }
    },
    {
      "cell_type": "code",
      "source": [
        "X = df.iloc[:, :-1].values\n",
        "y = df.iloc[:, -1].values\n",
        "ones = np.ones((len(X), 1))\n",
        "X = np.hstack((X, ones))\n",
        "print(X[0])\n",
        "print(X.shape)"
      ],
      "metadata": {
        "colab": {
          "base_uri": "https://localhost:8080/"
        },
        "id": "PJsX4lqqzkQ_",
        "outputId": "b8b97d35-82ab-43b1-f8d6-c785b23d0a63"
      },
      "execution_count": 92,
      "outputs": [
        {
          "output_type": "stream",
          "name": "stdout",
          "text": [
            "[230.1  37.8  69.2   1. ]\n",
            "(200, 4)\n"
          ]
        }
      ]
    },
    {
      "cell_type": "code",
      "source": [
        "def initialize_params():\n",
        "  gauss = random.gauss(mu=0, sigma=0.01)\n",
        "  return (gauss, gauss, gauss, 0)\n",
        "\n",
        "def compute_loss_mse(w, xi, yi):\n",
        "  return (np.dot(w, xi) - yi)**2\n",
        "\n",
        "def compute_gradient(w, xi, yi):\n",
        " return xi * (2 * (np.dot(w, xi) - yi))\n",
        "\n",
        "def update_weight(w, grad, lr):\n",
        "  w = w - lr * grad\n",
        "  return w\n",
        "\n",
        "def final_linear_regression(X, y, lr=1e-5, max_epochs=50):\n",
        "  N = len(X)\n",
        "  w = initialize_params()\n",
        "  losses = []\n",
        "  for _ in range(max_epochs):\n",
        "    for i in range(N):\n",
        "      # Get a sample in the dataset\n",
        "      xi = X[i]\n",
        "      yi = y[i]\n",
        "\n",
        "      # Compute the loss function of that sample\n",
        "      loss = compute_loss_mse(w, xi, yi)\n",
        "\n",
        "      # Compute the gradient\n",
        "      grad = compute_gradient(w, xi, yi)\n",
        "\n",
        "      # Update the parameter\n",
        "      w = update_weight(w, grad, lr)\n",
        "\n",
        "      # Log\n",
        "      losses.append(loss)\n",
        "\n",
        "  return w, losses"
      ],
      "metadata": {
        "id": "6BxtfVd603CQ"
      },
      "execution_count": 85,
      "outputs": []
    },
    {
      "cell_type": "code",
      "source": [
        "w, losses = final_linear_regression(X, y)"
      ],
      "metadata": {
        "id": "YqLH9lwd1SqZ"
      },
      "execution_count": 90,
      "outputs": []
    },
    {
      "cell_type": "code",
      "source": [
        "plt.plot(losses[:100])\n",
        "print(losses[9999])"
      ],
      "metadata": {
        "colab": {
          "base_uri": "https://localhost:8080/",
          "height": 451
        },
        "id": "RptF6olS32Hx",
        "outputId": "b739b4ab-bd26-4ab7-cd15-34a73db156c9"
      },
      "execution_count": 94,
      "outputs": [
        {
          "output_type": "stream",
          "name": "stdout",
          "text": [
            "31.336264575328613\n"
          ]
        },
        {
          "output_type": "display_data",
          "data": {
            "text/plain": [
              "<Figure size 640x480 with 1 Axes>"
            ],
            "image/png": "[encoded data removed]"
          },
          "metadata": {}
        }
      ]
    }
  ]
}