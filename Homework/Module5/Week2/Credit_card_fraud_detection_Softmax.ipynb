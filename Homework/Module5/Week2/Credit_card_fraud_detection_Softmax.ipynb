{
  "nbformat": 4,
  "nbformat_minor": 0,
  "metadata": {
    "colab": {
      "provenance": []
    },
    "kernelspec": {
      "name": "python3",
      "display_name": "Python 3"
    },
    "language_info": {
      "name": "python"
    }
  },
  "cells": [
    {
      "cell_type": "code",
      "source": [
        "import numpy as np\n",
        "import pandas as pd\n",
        "import matplotlib.pyplot as plt\n",
        "\n",
        "from sklearn.model_selection import train_test_split\n",
        "from sklearn.preprocessing import StandardScaler"
      ],
      "metadata": {
        "id": "u6qmSslfY7ye"
      },
      "execution_count": null,
      "outputs": []
    },
    {
      "cell_type": "markdown",
      "source": [
        "# Download the dataset, process, create X, y"
      ],
      "metadata": {
        "id": "Bn66wuR2YZy2"
      }
    },
    {
      "cell_type": "code",
      "execution_count": null,
      "metadata": {
        "colab": {
          "base_uri": "https://localhost:8080/"
        },
        "id": "e4mOsRUQXeaG",
        "outputId": "bc61d300-42de-433c-c857-c40a54532fe7"
      },
      "outputs": [
        {
          "output_type": "stream",
          "name": "stdout",
          "text": [
            "Downloading...\n",
            "From (original): https://drive.google.com/uc?id=1NwikiUU_Yzom-l4Kwy24Cn-bG46gMmG4\n",
            "From (redirected): https://drive.google.com/uc?id=1NwikiUU_Yzom-l4Kwy24Cn-bG46gMmG4&confirm=t&uuid=3dd939e9-7dda-4213-abbe-ebc61888da9f\n",
            "To: /content/creditcard.csv\n",
            "100% 151M/151M [00:01<00:00, 76.0MB/s]\n"
          ]
        }
      ],
      "source": [
        "!gdown 1NwikiUU_Yzom-l4Kwy24Cn-bG46gMmG4"
      ]
    },
    {
      "cell_type": "code",
      "source": [
        "df = pd.read_csv('/content/creditcard.csv')\n",
        "df.info()\n",
        "print(df.head(5))"
      ],
      "metadata": {
        "id": "qkyFNoqeY6Ym",
        "colab": {
          "base_uri": "https://localhost:8080/"
        },
        "outputId": "a09a5e1d-5c00-4d10-e018-28d42aa9653d"
      },
      "execution_count": null,
      "outputs": [
        {
          "output_type": "stream",
          "name": "stdout",
          "text": [
            "<class 'pandas.core.frame.DataFrame'>\n",
            "RangeIndex: 284807 entries, 0 to 284806\n",
            "Data columns (total 31 columns):\n",
            " #   Column  Non-Null Count   Dtype  \n",
            "---  ------  --------------   -----  \n",
            " 0   Time    284807 non-null  float64\n",
            " 1   V1      284807 non-null  float64\n",
            " 2   V2      284807 non-null  float64\n",
            " 3   V3      284807 non-null  float64\n",
            " 4   V4      284807 non-null  float64\n",
            " 5   V5      284807 non-null  float64\n",
            " 6   V6      284807 non-null  float64\n",
            " 7   V7      284807 non-null  float64\n",
            " 8   V8      284807 non-null  float64\n",
            " 9   V9      284807 non-null  float64\n",
            " 10  V10     284807 non-null  float64\n",
            " 11  V11     284807 non-null  float64\n",
            " 12  V12     284807 non-null  float64\n",
            " 13  V13     284807 non-null  float64\n",
            " 14  V14     284807 non-null  float64\n",
            " 15  V15     284807 non-null  float64\n",
            " 16  V16     284807 non-null  float64\n",
            " 17  V17     284807 non-null  float64\n",
            " 18  V18     284807 non-null  float64\n",
            " 19  V19     284807 non-null  float64\n",
            " 20  V20     284807 non-null  float64\n",
            " 21  V21     284807 non-null  float64\n",
            " 22  V22     284807 non-null  float64\n",
            " 23  V23     284807 non-null  float64\n",
            " 24  V24     284807 non-null  float64\n",
            " 25  V25     284807 non-null  float64\n",
            " 26  V26     284807 non-null  float64\n",
            " 27  V27     284807 non-null  float64\n",
            " 28  V28     284807 non-null  float64\n",
            " 29  Amount  284807 non-null  float64\n",
            " 30  Class   284807 non-null  int64  \n",
            "dtypes: float64(30), int64(1)\n",
            "memory usage: 67.4 MB\n",
            "   Time        V1        V2        V3        V4        V5        V6        V7  \\\n",
            "0   0.0 -1.359807 -0.072781  2.536347  1.378155 -0.338321  0.462388  0.239599   \n",
            "1   0.0  1.191857  0.266151  0.166480  0.448154  0.060018 -0.082361 -0.078803   \n",
            "2   1.0 -1.358354 -1.340163  1.773209  0.379780 -0.503198  1.800499  0.791461   \n",
            "3   1.0 -0.966272 -0.185226  1.792993 -0.863291 -0.010309  1.247203  0.237609   \n",
            "4   2.0 -1.158233  0.877737  1.548718  0.403034 -0.407193  0.095921  0.592941   \n",
            "\n",
            "         V8        V9  ...       V21       V22       V23       V24       V25  \\\n",
            "0  0.098698  0.363787  ... -0.018307  0.277838 -0.110474  0.066928  0.128539   \n",
            "1  0.085102 -0.255425  ... -0.225775 -0.638672  0.101288 -0.339846  0.167170   \n",
            "2  0.247676 -1.514654  ...  0.247998  0.771679  0.909412 -0.689281 -0.327642   \n",
            "3  0.377436 -1.387024  ... -0.108300  0.005274 -0.190321 -1.175575  0.647376   \n",
            "4 -0.270533  0.817739  ... -0.009431  0.798278 -0.137458  0.141267 -0.206010   \n",
            "\n",
            "        V26       V27       V28  Amount  Class  \n",
            "0 -0.189115  0.133558 -0.021053  149.62      0  \n",
            "1  0.125895 -0.008983  0.014724    2.69      0  \n",
            "2 -0.139097 -0.055353 -0.059752  378.66      0  \n",
            "3 -0.221929  0.062723  0.061458  123.50      0  \n",
            "4  0.502292  0.219422  0.215153   69.99      0  \n",
            "\n",
            "[5 rows x 31 columns]\n"
          ]
        }
      ]
    },
    {
      "cell_type": "code",
      "source": [
        "df_numpy = df.to_numpy()\n",
        "X = df_numpy[:, :-1].astype(np.float64)\n",
        "y = df_numpy[:, -1].astype(np.uint8)"
      ],
      "metadata": {
        "id": "AjrtX88vZ1bf"
      },
      "execution_count": null,
      "outputs": []
    },
    {
      "cell_type": "markdown",
      "source": [
        "# Add bias, create one_hot"
      ],
      "metadata": {
        "id": "6OZrMq3IaRXu"
      }
    },
    {
      "cell_type": "code",
      "source": [
        "col_1 = np.ones((len(X), 1))\n",
        "X_bias = np.concatenate((col_1, X), axis=1)"
      ],
      "metadata": {
        "id": "xhvqqijUaQLW"
      },
      "execution_count": null,
      "outputs": []
    },
    {
      "cell_type": "code",
      "source": [
        "n_classes = np.unique(y).shape[0]\n",
        "y_onehot = np.zeros((y.shape[0], n_classes))\n",
        "y_onehot[np.arange(y.shape[0]), y] = 1"
      ],
      "metadata": {
        "id": "uftHiVF_bBQ2"
      },
      "execution_count": null,
      "outputs": []
    },
    {
      "cell_type": "markdown",
      "source": [
        "# Train test split"
      ],
      "metadata": {
        "id": "aFueQcedb7of"
      }
    },
    {
      "cell_type": "code",
      "source": [
        "test_val_to_all = 0.3\n",
        "test_to_val = 0.1\n",
        "random_state = 2\n",
        "is_shuffle = True\n",
        "\n",
        "X_train, X_val_test, y_train, y_val_test = train_test_split(\n",
        "    X_bias, y_onehot,\n",
        "    shuffle=is_shuffle,\n",
        "    random_state=random_state,\n",
        "    test_size=test_val_to_all\n",
        ")\n",
        "X_val, X_test, y_val, y_test = train_test_split(\n",
        "    X_val_test, y_val_test,\n",
        "    shuffle=is_shuffle,\n",
        "    random_state=random_state,\n",
        "    test_size=test_to_val\n",
        ")"
      ],
      "metadata": {
        "id": "d7u8iLxEb9dX"
      },
      "execution_count": null,
      "outputs": []
    },
    {
      "cell_type": "markdown",
      "source": [
        "# Normalize"
      ],
      "metadata": {
        "id": "KXMpB9FEdSmv"
      }
    },
    {
      "cell_type": "code",
      "source": [
        "nomalizer = StandardScaler()\n",
        "X_train[:, 1:] = nomalizer.fit_transform(X_train[:, 1:])\n",
        "X_val[:, 1:] = nomalizer.transform(X_val[:, 1:])\n",
        "X_test[:, 1:] = nomalizer.transform(X_test[:, 1:])"
      ],
      "metadata": {
        "id": "NDPKjNigdTrP"
      },
      "execution_count": null,
      "outputs": []
    },
    {
      "cell_type": "markdown",
      "source": [
        "# Start the training"
      ],
      "metadata": {
        "id": "DyiybMD2d01-"
      }
    },
    {
      "cell_type": "code",
      "source": [
        "# Functions\n",
        "# Work for stochatic, mini batch, batch\n",
        "def softmax(z):\n",
        "  return np.exp(z) / np.sum(np.exp(z), axis=1)[:, None]\n",
        "\n",
        "def predict(X, theta):\n",
        "  z = np.dot(X, theta)\n",
        "  y_hat = softmax(z)\n",
        "\n",
        "  return y_hat\n",
        "\n",
        "def compute_loss(y_hat, y):\n",
        "  n = y.size\n",
        "\n",
        "  return (-1/n) * np.sum(y * np.log(y_hat))\n",
        "\n",
        "def compute_gradient(X, y, y_hat):\n",
        "  n = y.size\n",
        "\n",
        "  return np.dot(X.T, (y_hat - y)) / n\n",
        "\n",
        "def update_theta(theta, gradient, lr):\n",
        "  return theta - gradient * lr\n",
        "\n",
        "def compute_accuracy(X, y, theta):\n",
        "  y_hat = predict(X, theta)\n",
        "\n",
        "  return np.mean(np.argmax(y, axis=1) == np.argmax(y_hat, axis=1))\n"
      ],
      "metadata": {
        "id": "JTIXwQj_d3mv"
      },
      "execution_count": null,
      "outputs": []
    },
    {
      "cell_type": "code",
      "source": [
        "# Hyper parameter\n",
        "lr = 0.01\n",
        "epochs = 30\n",
        "batch_size = 1024\n",
        "n_features = X_train.shape[1]\n",
        "\n",
        "np.random.seed(random_state)\n",
        "theta = np.random.uniform(size=(n_features, n_classes))"
      ],
      "metadata": {
        "id": "sVnGW9JbqrO8"
      },
      "execution_count": null,
      "outputs": []
    },
    {
      "cell_type": "code",
      "source": [
        "# Start training\n",
        "train_accs = []\n",
        "train_losses = []\n",
        "val_accs = []\n",
        "val_losses = []\n",
        "\n",
        "for epoch in range(epochs):\n",
        "  b_train_losses = []\n",
        "  b_train_accs = []\n",
        "  b_val_losses = []\n",
        "  b_val_accs = []\n",
        "\n",
        "  for i in range(0, X_train.shape[0], batch_size):\n",
        "    X_batch = X_train[i:i+batch_size, :]\n",
        "    y_batch = y_train[i:i+batch_size, :]\n",
        "\n",
        "    y_hat = predict(X_batch, theta)\n",
        "\n",
        "    loss = compute_loss(y_hat, y_batch)\n",
        "\n",
        "    gradient = compute_gradient(X_batch, y_batch, y_hat)\n",
        "\n",
        "    theta = update_theta(theta, gradient, lr)\n",
        "\n",
        "    # Update log\n",
        "    # train\n",
        "    b_train_losses.append(loss)\n",
        "    train_acc = compute_accuracy(X_batch, y_batch, theta)\n",
        "    b_train_accs.append(train_acc)\n",
        "\n",
        "    # val\n",
        "    val_y_hat = predict(X_val, theta)\n",
        "    val_loss = compute_loss(val_y_hat, y_val)\n",
        "    val_acc = compute_accuracy(X_val, y_val, theta)\n",
        "    b_val_losses.append(val_loss)\n",
        "    b_val_accs.append(val_acc)\n",
        "\n",
        "  b_train_mean_loss = sum(b_train_losses) / len(b_train_losses)\n",
        "  b_train_mean_acc = sum(b_train_accs) / len(b_train_accs)\n",
        "  b_val_mean_loss = sum(b_val_losses) / len(b_val_losses)\n",
        "  b_val_mean_acc = sum(b_val_accs) / len(b_val_accs)\n",
        "\n",
        "  train_accs.append(b_train_mean_acc)\n",
        "  train_losses.append(b_train_mean_loss)\n",
        "  val_accs.append(b_val_mean_acc)\n",
        "  val_losses.append(b_val_mean_loss)\n",
        "\n",
        "  print (f'\\nEPOCH { epoch + 1}:\\tTraining loss : { b_train_mean_loss:.3f}\\tValidation loss : { b_val_mean_loss:.3f}')\n"
      ],
      "metadata": {
        "colab": {
          "base_uri": "https://localhost:8080/"
        },
        "id": "OOsERrdmrJ86",
        "outputId": "32eda2b6-7fd6-4858-b5c8-fd14a4db824a"
      },
      "execution_count": null,
      "outputs": [
        {
          "output_type": "stream",
          "name": "stdout",
          "text": [
            "\n",
            "EPOCH 1:\tTraining loss : 0.300\tValidation loss : 0.298\n",
            "\n",
            "EPOCH 2:\tTraining loss : 0.176\tValidation loss : 0.175\n",
            "\n",
            "EPOCH 3:\tTraining loss : 0.115\tValidation loss : 0.114\n",
            "\n",
            "EPOCH 4:\tTraining loss : 0.082\tValidation loss : 0.081\n",
            "\n",
            "EPOCH 5:\tTraining loss : 0.062\tValidation loss : 0.062\n",
            "\n",
            "EPOCH 6:\tTraining loss : 0.050\tValidation loss : 0.049\n",
            "\n",
            "EPOCH 7:\tTraining loss : 0.041\tValidation loss : 0.041\n",
            "\n",
            "EPOCH 8:\tTraining loss : 0.035\tValidation loss : 0.035\n",
            "\n",
            "EPOCH 9:\tTraining loss : 0.031\tValidation loss : 0.031\n",
            "\n",
            "EPOCH 10:\tTraining loss : 0.028\tValidation loss : 0.027\n",
            "\n",
            "EPOCH 11:\tTraining loss : 0.025\tValidation loss : 0.025\n",
            "\n",
            "EPOCH 12:\tTraining loss : 0.023\tValidation loss : 0.023\n",
            "\n",
            "EPOCH 13:\tTraining loss : 0.021\tValidation loss : 0.021\n",
            "\n",
            "EPOCH 14:\tTraining loss : 0.020\tValidation loss : 0.020\n",
            "\n",
            "EPOCH 15:\tTraining loss : 0.019\tValidation loss : 0.018\n",
            "\n",
            "EPOCH 16:\tTraining loss : 0.017\tValidation loss : 0.017\n",
            "\n",
            "EPOCH 17:\tTraining loss : 0.017\tValidation loss : 0.016\n",
            "\n",
            "EPOCH 18:\tTraining loss : 0.016\tValidation loss : 0.015\n",
            "\n",
            "EPOCH 19:\tTraining loss : 0.015\tValidation loss : 0.015\n",
            "\n",
            "EPOCH 20:\tTraining loss : 0.014\tValidation loss : 0.014\n",
            "\n",
            "EPOCH 21:\tTraining loss : 0.014\tValidation loss : 0.013\n",
            "\n",
            "EPOCH 22:\tTraining loss : 0.013\tValidation loss : 0.013\n",
            "\n",
            "EPOCH 23:\tTraining loss : 0.013\tValidation loss : 0.012\n",
            "\n",
            "EPOCH 24:\tTraining loss : 0.012\tValidation loss : 0.012\n",
            "\n",
            "EPOCH 25:\tTraining loss : 0.012\tValidation loss : 0.011\n",
            "\n",
            "EPOCH 26:\tTraining loss : 0.011\tValidation loss : 0.011\n",
            "\n",
            "EPOCH 27:\tTraining loss : 0.011\tValidation loss : 0.011\n",
            "\n",
            "EPOCH 28:\tTraining loss : 0.011\tValidation loss : 0.010\n",
            "\n",
            "EPOCH 29:\tTraining loss : 0.010\tValidation loss : 0.010\n",
            "\n",
            "EPOCH 30:\tTraining loss : 0.010\tValidation loss : 0.010\n"
          ]
        }
      ]
    },
    {
      "cell_type": "markdown",
      "source": [
        "# Visualize"
      ],
      "metadata": {
        "id": "HowC9-ervcnO"
      }
    },
    {
      "cell_type": "code",
      "source": [
        "fig, ax = plt.subplots(2, 2, figsize=(12, 10))\n",
        "\n",
        "# Training Loss\n",
        "ax[0, 0].plot(train_losses)\n",
        "ax[0, 0].set_title('Training Loss')\n",
        "\n",
        "# Validation Loss\n",
        "ax[0, 1].plot(val_losses, color='orange')\n",
        "ax[0, 1].set_title('Validation Loss')\n",
        "\n",
        "# Training Accuracy\n",
        "ax[1, 0].plot(train_accs)\n",
        "ax[1, 0].set_title('Training Accuracy')\n",
        "\n",
        "# Validation Accuracy\n",
        "ax[1, 1].plot(val_accs, color='orange')\n",
        "ax[1, 1].set_title('Validation Accuracy')\n",
        "\n",
        "# Set common labels\n",
        "for i in range(2):\n",
        "    ax[0, i].set(xlabel='Epoch', ylabel='Loss')\n",
        "    ax[1, i].set(xlabel='Epoch', ylabel='Accuracy')\n",
        "\n",
        "plt.show()\n"
      ],
      "metadata": {
        "colab": {
          "base_uri": "https://localhost:8080/",
          "height": 819
        },
        "id": "nWa4RKs9vb6X",
        "outputId": "e59e40bf-a15b-4398-f3a3-69fb96dee3f5"
      },
      "execution_count": 12,
      "outputs": [
        {
          "output_type": "display_data",
          "data": {
            "text/plain": [
              "<Figure size 1200x1000 with 4 Axes>"
            ],
            "image/png": "[encoded data removed]"
          },
          "metadata": {}
        }
      ]
    },
    {
      "cell_type": "code",
      "source": [
        "val_set_acc = compute_accuracy(X_val, y_val, theta)\n",
        "test_set_acc = compute_accuracy(X_test, y_test, theta)\n",
        "\n",
        "print('Evaluation on validation and test set:')\n",
        "print(f'Validation Set Accuracy: {val_set_acc}')\n",
        "print(f'Test Set Accuracy: {test_set_acc}')\n"
      ],
      "metadata": {
        "colab": {
          "base_uri": "https://localhost:8080/"
        },
        "id": "GNDIPCePvnX-",
        "outputId": "951cb3e2-98eb-458d-d695-f8b676eddae7"
      },
      "execution_count": 13,
      "outputs": [
        {
          "output_type": "stream",
          "name": "stdout",
          "text": [
            "Evaluation on validation and test set:\n",
            "Validation Set Accuracy: 0.9992197456370777\n",
            "Test Set Accuracy: 0.9994148624926857\n"
          ]
        }
      ]
    }
  ]
}