{
  "nbformat": 4,
  "nbformat_minor": 0,
  "metadata": {
    "colab": {
      "provenance": []
    },
    "kernelspec": {
      "name": "python3",
      "display_name": "Python 3"
    },
    "language_info": {
      "name": "python"
    }
  },
  "cells": [
    {
      "cell_type": "code",
      "execution_count": 16,
      "metadata": {
        "colab": {
          "base_uri": "https://localhost:8080/"
        },
        "id": "9USYc0HZwvjO",
        "outputId": "3346ec20-0bc7-461f-9227-ac6411edc078"
      },
      "outputs": [
        {
          "output_type": "stream",
          "name": "stderr",
          "text": [
            "[nltk_data] Downloading package stopwords to /root/nltk_data...\n",
            "[nltk_data]   Package stopwords is already up-to-date!\n"
          ]
        }
      ],
      "source": [
        "import numpy as np\n",
        "import pandas as pd\n",
        "import matplotlib.pyplot as plt\n",
        "from scipy.sparse import csr_matrix, hstack\n",
        "\n",
        "import re\n",
        "import nltk\n",
        "nltk.download('stopwords')\n",
        "from nltk.corpus import stopwords\n",
        "from nltk.stem import SnowballStemmer\n",
        "\n",
        "from sklearn.feature_extraction.text import TfidfVectorizer\n",
        "from sklearn.model_selection import train_test_split\n",
        "from sklearn.preprocessing import StandardScaler"
      ]
    },
    {
      "cell_type": "markdown",
      "source": [
        "# Download the dataset"
      ],
      "metadata": {
        "id": "eHesJkfq2Op9"
      }
    },
    {
      "cell_type": "code",
      "source": [
        "!gdown 1GR3IwbvKNuiVXN5E5eMGyEQtT4pP7kCt"
      ],
      "metadata": {
        "colab": {
          "base_uri": "https://localhost:8080/"
        },
        "id": "23DrJ9caw1aS",
        "outputId": "ab363348-7470-4829-8e7e-06834ac2ad3d"
      },
      "execution_count": 2,
      "outputs": [
        {
          "output_type": "stream",
          "name": "stdout",
          "text": [
            "Downloading...\n",
            "From: https://drive.google.com/uc?id=1GR3IwbvKNuiVXN5E5eMGyEQtT4pP7kCt\n",
            "To: /content/Twitter_Data.csv\n",
            "100% 20.9M/20.9M [00:00<00:00, 104MB/s]\n"
          ]
        }
      ]
    },
    {
      "cell_type": "code",
      "source": [
        "df = pd.read_csv('/content/Twitter_Data.csv')\n",
        "df.info()\n",
        "print(df.head(5))"
      ],
      "metadata": {
        "colab": {
          "base_uri": "https://localhost:8080/"
        },
        "id": "Z8guaNMow4Dq",
        "outputId": "2ff26c73-55ad-499f-af5f-f1e6ce2c8325"
      },
      "execution_count": 3,
      "outputs": [
        {
          "output_type": "stream",
          "name": "stdout",
          "text": [
            "<class 'pandas.core.frame.DataFrame'>\n",
            "RangeIndex: 162980 entries, 0 to 162979\n",
            "Data columns (total 2 columns):\n",
            " #   Column      Non-Null Count   Dtype  \n",
            "---  ------      --------------   -----  \n",
            " 0   clean_text  162976 non-null  object \n",
            " 1   category    162973 non-null  float64\n",
            "dtypes: float64(1), object(1)\n",
            "memory usage: 2.5+ MB\n",
            "                                          clean_text  category\n",
            "0  when modi promised “minimum government maximum...      -1.0\n",
            "1  talk all the nonsense and continue all the dra...       0.0\n",
            "2  what did just say vote for modi  welcome bjp t...       1.0\n",
            "3  asking his supporters prefix chowkidar their n...       1.0\n",
            "4  answer who among these the most powerful world...       1.0\n"
          ]
        }
      ]
    },
    {
      "cell_type": "code",
      "source": [
        "# Fix Missing data\n",
        "df = df.dropna()\n",
        "df.info()"
      ],
      "metadata": {
        "colab": {
          "base_uri": "https://localhost:8080/"
        },
        "id": "kRvgOnLOw5MT",
        "outputId": "b411c51a-7b7f-4f5d-9bca-2aa29a94960c"
      },
      "execution_count": 4,
      "outputs": [
        {
          "output_type": "stream",
          "name": "stdout",
          "text": [
            "<class 'pandas.core.frame.DataFrame'>\n",
            "Index: 162969 entries, 0 to 162979\n",
            "Data columns (total 2 columns):\n",
            " #   Column      Non-Null Count   Dtype  \n",
            "---  ------      --------------   -----  \n",
            " 0   clean_text  162969 non-null  object \n",
            " 1   category    162969 non-null  float64\n",
            "dtypes: float64(1), object(1)\n",
            "memory usage: 3.7+ MB\n"
          ]
        }
      ]
    },
    {
      "cell_type": "markdown",
      "source": [
        "# Checking for RAM"
      ],
      "metadata": {
        "id": "jy8cQjrN1tCu"
      }
    },
    {
      "cell_type": "code",
      "source": [
        "import psutil\n",
        "\n",
        "# Function to check RAM usage\n",
        "def check_ram():\n",
        "    memory = psutil.virtual_memory()\n",
        "    total_ram = memory.total / (1024 ** 3)  # Convert bytes to GB\n",
        "    used_ram = memory.used / (1024 ** 3)\n",
        "    available_ram = memory.available / (1024 ** 3)\n",
        "    print(f\"Total RAM: {total_ram:.2f} GB\")\n",
        "    print(f\"Used RAM: {used_ram:.2f} GB\")\n",
        "    print(f\"Available RAM: {available_ram:.2f} GB\")"
      ],
      "metadata": {
        "id": "mHLH3Fpc1uyG"
      },
      "execution_count": 5,
      "outputs": []
    },
    {
      "cell_type": "code",
      "source": [
        "check_ram()"
      ],
      "metadata": {
        "colab": {
          "base_uri": "https://localhost:8080/"
        },
        "id": "Q8tX5Z-e1yuP",
        "outputId": "0dd8587e-424d-46b5-997d-6145a185a882"
      },
      "execution_count": 6,
      "outputs": [
        {
          "output_type": "stream",
          "name": "stdout",
          "text": [
            "Total RAM: 12.67 GB\n",
            "Used RAM: 1.13 GB\n",
            "Available RAM: 11.23 GB\n"
          ]
        }
      ]
    },
    {
      "cell_type": "markdown",
      "source": [
        "# Proccess -> Create X and y"
      ],
      "metadata": {
        "id": "uVkTzYB92KeW"
      }
    },
    {
      "cell_type": "code",
      "source": [
        "# Normalize text\n",
        "def text_normalize(text):\n",
        "  text = text.lower()\n",
        "  text = re.sub(r'^rt[\\s]+', '', text)\n",
        "  text = re.sub(r'https ?:\\/\\/.*[\\ r\\n]*', '', text )\n",
        "  text = re.sub(r'[^\\w\\s]', '', text)\n",
        "\n",
        "  stop_words = set ( stopwords.words('english'))\n",
        "\n",
        "  words = text.split()\n",
        "  words = [word for word in words if word not in stop_words]\n",
        "  text = ' '.join(words)\n",
        "\n",
        "  words = text.split()\n",
        "  stemmer = SnowballStemmer('english')\n",
        "  words = [stemmer.stem(word) for word in words]\n",
        "  text = ' '.join(words)\n",
        "\n",
        "  return text"
      ],
      "metadata": {
        "id": "sHxag8gaxCSa"
      },
      "execution_count": 7,
      "outputs": []
    },
    {
      "cell_type": "code",
      "source": [
        "proccessed_texts = [text_normalize(text) for text in df['clean_text'].values]"
      ],
      "metadata": {
        "id": "SjDnR8D6A5g2"
      },
      "execution_count": 8,
      "outputs": []
    },
    {
      "cell_type": "code",
      "source": [
        "vectorizer = TfidfVectorizer()\n",
        "X = vectorizer.fit_transform(proccessed_texts) # numpy now\n",
        "y = df['category'].values"
      ],
      "metadata": {
        "id": "OEazmw71xIKi"
      },
      "execution_count": 9,
      "outputs": []
    },
    {
      "cell_type": "code",
      "source": [
        "check_ram()"
      ],
      "metadata": {
        "colab": {
          "base_uri": "https://localhost:8080/"
        },
        "id": "fCt7mx_mxRyD",
        "outputId": "751889b7-5019-4e8d-9017-7d16662c94fe"
      },
      "execution_count": 10,
      "outputs": [
        {
          "output_type": "stream",
          "name": "stdout",
          "text": [
            "Total RAM: 12.67 GB\n",
            "Used RAM: 1.50 GB\n",
            "Available RAM: 10.86 GB\n"
          ]
        }
      ]
    },
    {
      "cell_type": "markdown",
      "source": [
        "# We have X, y now. But..."
      ],
      "metadata": {
        "id": "5j7UaTU6c_43"
      }
    },
    {
      "cell_type": "code",
      "source": [
        "print(f\"Type of X: {type(X)}\")\n",
        "print(f\"Shape of X: {X.shape}\")\n",
        "print(f\"Type of y: {type(y)}\")\n",
        "print(f\"Shape of y: {y.shape}\")"
      ],
      "metadata": {
        "colab": {
          "base_uri": "https://localhost:8080/"
        },
        "id": "WlNzXctzEU7h",
        "outputId": "062c701f-f7c0-459e-f33f-36ee836c2389"
      },
      "execution_count": 13,
      "outputs": [
        {
          "output_type": "stream",
          "name": "stdout",
          "text": [
            "Type of X: <class 'scipy.sparse._csr.csr_matrix'>\n",
            "Shape of X: (162969, 88410)\n",
            "Type of y: <class 'numpy.ndarray'>\n",
            "Shape of y: (162969,)\n"
          ]
        }
      ]
    },
    {
      "cell_type": "markdown",
      "source": [
        "Add bias to X"
      ],
      "metadata": {
        "id": "7TPl7j5MedtA"
      }
    },
    {
      "cell_type": "code",
      "source": [
        "bias = np.ones((X.shape[0], 1))\n",
        "bias = csr_matrix(bias)\n",
        "X = hstack([bias, X])"
      ],
      "metadata": {
        "id": "GX3y7bUBedF6"
      },
      "execution_count": 17,
      "outputs": []
    },
    {
      "cell_type": "markdown",
      "source": [
        "Add one to y"
      ],
      "metadata": {
        "id": "kTC0D5tPeaWQ"
      }
    },
    {
      "cell_type": "code",
      "source": [
        "print(np.unique(y)) # -1 0 1\n",
        "# We add 1 to the y\n",
        "y = y + 1\n",
        "print(np.unique(y)) # 0 1 2"
      ],
      "metadata": {
        "colab": {
          "base_uri": "https://localhost:8080/"
        },
        "id": "K8_swoQedrfi",
        "outputId": "6b05cee5-d5a9-4d32-ce56-fbbdb5333c0b"
      },
      "execution_count": 15,
      "outputs": [
        {
          "output_type": "stream",
          "name": "stdout",
          "text": [
            "[-1.  0.  1.]\n",
            "[0. 1. 2.]\n"
          ]
        }
      ]
    },
    {
      "cell_type": "markdown",
      "source": [
        "One hot encoding y"
      ],
      "metadata": {
        "id": "6rxg7bLcffQw"
      }
    },
    {
      "cell_type": "code",
      "source": [
        "n_samples = X.shape[0]\n",
        "n_classes = np.unique(y).shape[0]\n",
        "y_one_hot = np.zeros((n_samples, n_classes))\n",
        "y_one_hot[np.arange(n_samples), y.astype(np.uint8)] = 1"
      ],
      "metadata": {
        "id": "Nca7cO3ffg8I"
      },
      "execution_count": 22,
      "outputs": []
    },
    {
      "cell_type": "markdown",
      "source": [
        "# Train test split"
      ],
      "metadata": {
        "id": "vFDJ7yHZdkYB"
      }
    },
    {
      "cell_type": "code",
      "source": [
        "val_to_train = 0.2\n",
        "test_to_val = 0.1\n",
        "random_state = 2\n",
        "\n",
        "X_train, X_val, y_train, y_val = train_test_split(\n",
        "    X, y_one_hot,\n",
        "    test_size=val_to_train,\n",
        "    shuffle=True,\n",
        "    random_state=random_state\n",
        ")\n",
        "\n",
        "X_val, X_test, y_val, y_test = train_test_split(\n",
        "    X_val, y_val,\n",
        "    test_size=test_to_val,\n",
        "    shuffle=True,\n",
        "    random_state=random_state\n",
        ")"
      ],
      "metadata": {
        "id": "1Twt9EDldnVI"
      },
      "execution_count": 24,
      "outputs": []
    },
    {
      "cell_type": "markdown",
      "source": [
        "# We can train now"
      ],
      "metadata": {
        "id": "dTJMAFYrgxSg"
      }
    },
    {
      "cell_type": "markdown",
      "source": [
        "Some function"
      ],
      "metadata": {
        "id": "jkKl3bLngzsQ"
      }
    },
    {
      "cell_type": "code",
      "source": [
        "def softmax(z):\n",
        "  exp_z = np.exp(z)\n",
        "\n",
        "  return exp_z / np.sum(exp_z, axis=1)[:, None]\n",
        "\n",
        "def compute_loss(y_hat, y):\n",
        "  n = y.size\n",
        "\n",
        "  return (-1/n) * np.sum(y * np.log(y_hat))\n",
        "\n",
        "def predict(X, theta):\n",
        "  z = X @ theta # sparse matrix\n",
        "  return softmax(z)\n",
        "\n",
        "def compute_gradient(X, y, y_hat):\n",
        "  n = y.size\n",
        "\n",
        "  return X.T.dot(y_hat - y) / n\n",
        "\n",
        "def update_theta(theta, gradient, learning_rate):\n",
        "  return theta - learning_rate * gradient\n",
        "\n",
        "def compute_accuracy(X, y, theta):\n",
        "  y_hat = predict(X, theta)\n",
        "  acc = (np.argmax(y_hat, axis=1) == np.argmax(y, axis=1)).mean()\n",
        "  return acc\n"
      ],
      "metadata": {
        "id": "Nt7WIfaEg0zg"
      },
      "execution_count": 32,
      "outputs": []
    },
    {
      "cell_type": "code",
      "source": [
        "lr = 0.1\n",
        "epochs = 200\n",
        "batch_size = X_train.shape[0]\n",
        "n_features = X_train.shape[1]\n",
        "np.random.seed (random_state)\n",
        "theta = np.random.uniform(\n",
        "  size =(n_features, n_classes)\n",
        ")"
      ],
      "metadata": {
        "id": "eytvuKSz-Caa"
      },
      "execution_count": 47,
      "outputs": []
    },
    {
      "cell_type": "code",
      "source": [
        "# Start training\n",
        "train_accs = []\n",
        "train_losses = []\n",
        "val_accs = []\n",
        "val_losses = []\n",
        "\n",
        "for epoch in range(epochs):\n",
        "  b_train_losses = []\n",
        "  b_train_accs = []\n",
        "  b_val_losses = []\n",
        "  b_val_accs = []\n",
        "\n",
        "  for i in range(0, X_train.shape[0], batch_size):\n",
        "    X_batch = X_train[i:i+batch_size, :]\n",
        "    y_batch = y_train[i:i+batch_size, :]\n",
        "\n",
        "    y_hat = predict(X_batch, theta)\n",
        "\n",
        "    loss = compute_loss(y_hat, y_batch)\n",
        "\n",
        "    gradient = compute_gradient(X_batch, y_batch, y_hat)\n",
        "\n",
        "    theta = update_theta(theta, gradient, lr)\n",
        "\n",
        "    # Update log\n",
        "    # train\n",
        "    b_train_losses.append(loss)\n",
        "    train_acc = compute_accuracy(X_batch, y_batch, theta)\n",
        "    b_train_accs.append(train_acc)\n",
        "\n",
        "    # val\n",
        "    val_y_hat = predict(X_val, theta)\n",
        "    val_loss = compute_loss(val_y_hat, y_val)\n",
        "    val_acc = compute_accuracy(X_val, y_val, theta)\n",
        "    b_val_losses.append(val_loss)\n",
        "    b_val_accs.append(val_acc)\n",
        "\n",
        "  b_train_mean_loss = sum(b_train_losses) / len(b_train_losses)\n",
        "  b_train_mean_acc = sum(b_train_accs) / len(b_train_accs)\n",
        "  b_val_mean_loss = sum(b_val_losses) / len(b_val_losses)\n",
        "  b_val_mean_acc = sum(b_val_accs) / len(b_val_accs)\n",
        "\n",
        "  train_accs.append(b_train_mean_acc)\n",
        "  train_losses.append(b_train_mean_loss)\n",
        "  val_accs.append(b_val_mean_acc)\n",
        "  val_losses.append(b_val_mean_loss)\n",
        "\n",
        "  print (f'\\nEPOCH { epoch + 1}:\\tTraining loss : { b_train_mean_loss:.3f}\\tValidation loss : { b_val_mean_loss:.3f}')\n"
      ],
      "metadata": {
        "colab": {
          "base_uri": "https://localhost:8080/"
        },
        "id": "6-3D8Rab-Wda",
        "outputId": "1a970fd4-61e6-4259-dc85-2d3531f864a5"
      },
      "execution_count": 48,
      "outputs": [
        {
          "output_type": "stream",
          "name": "stdout",
          "text": [
            "\n",
            "EPOCH 1:\tTraining loss : 0.385\tValidation loss : 0.384\n",
            "\n",
            "EPOCH 2:\tTraining loss : 0.384\tValidation loss : 0.383\n",
            "\n",
            "EPOCH 3:\tTraining loss : 0.384\tValidation loss : 0.383\n",
            "\n",
            "EPOCH 4:\tTraining loss : 0.384\tValidation loss : 0.382\n",
            "\n",
            "EPOCH 5:\tTraining loss : 0.383\tValidation loss : 0.382\n",
            "\n",
            "EPOCH 6:\tTraining loss : 0.383\tValidation loss : 0.382\n",
            "\n",
            "EPOCH 7:\tTraining loss : 0.383\tValidation loss : 0.381\n",
            "\n",
            "EPOCH 8:\tTraining loss : 0.382\tValidation loss : 0.381\n",
            "\n",
            "EPOCH 9:\tTraining loss : 0.382\tValidation loss : 0.381\n",
            "\n",
            "EPOCH 10:\tTraining loss : 0.382\tValidation loss : 0.380\n",
            "\n",
            "EPOCH 11:\tTraining loss : 0.381\tValidation loss : 0.380\n",
            "\n",
            "EPOCH 12:\tTraining loss : 0.381\tValidation loss : 0.380\n",
            "\n",
            "EPOCH 13:\tTraining loss : 0.381\tValidation loss : 0.380\n",
            "\n",
            "EPOCH 14:\tTraining loss : 0.380\tValidation loss : 0.379\n",
            "\n",
            "EPOCH 15:\tTraining loss : 0.380\tValidation loss : 0.379\n",
            "\n",
            "EPOCH 16:\tTraining loss : 0.380\tValidation loss : 0.379\n",
            "\n",
            "EPOCH 17:\tTraining loss : 0.380\tValidation loss : 0.378\n",
            "\n",
            "EPOCH 18:\tTraining loss : 0.379\tValidation loss : 0.378\n",
            "\n",
            "EPOCH 19:\tTraining loss : 0.379\tValidation loss : 0.378\n",
            "\n",
            "EPOCH 20:\tTraining loss : 0.379\tValidation loss : 0.378\n",
            "\n",
            "EPOCH 21:\tTraining loss : 0.378\tValidation loss : 0.377\n",
            "\n",
            "EPOCH 22:\tTraining loss : 0.378\tValidation loss : 0.377\n",
            "\n",
            "EPOCH 23:\tTraining loss : 0.378\tValidation loss : 0.377\n",
            "\n",
            "EPOCH 24:\tTraining loss : 0.378\tValidation loss : 0.377\n",
            "\n",
            "EPOCH 25:\tTraining loss : 0.377\tValidation loss : 0.376\n",
            "\n",
            "EPOCH 26:\tTraining loss : 0.377\tValidation loss : 0.376\n",
            "\n",
            "EPOCH 27:\tTraining loss : 0.377\tValidation loss : 0.376\n",
            "\n",
            "EPOCH 28:\tTraining loss : 0.377\tValidation loss : 0.376\n",
            "\n",
            "EPOCH 29:\tTraining loss : 0.377\tValidation loss : 0.376\n",
            "\n",
            "EPOCH 30:\tTraining loss : 0.376\tValidation loss : 0.375\n",
            "\n",
            "EPOCH 31:\tTraining loss : 0.376\tValidation loss : 0.375\n",
            "\n",
            "EPOCH 32:\tTraining loss : 0.376\tValidation loss : 0.375\n",
            "\n",
            "EPOCH 33:\tTraining loss : 0.376\tValidation loss : 0.375\n",
            "\n",
            "EPOCH 34:\tTraining loss : 0.376\tValidation loss : 0.375\n",
            "\n",
            "EPOCH 35:\tTraining loss : 0.375\tValidation loss : 0.374\n",
            "\n",
            "EPOCH 36:\tTraining loss : 0.375\tValidation loss : 0.374\n",
            "\n",
            "EPOCH 37:\tTraining loss : 0.375\tValidation loss : 0.374\n",
            "\n",
            "EPOCH 38:\tTraining loss : 0.375\tValidation loss : 0.374\n",
            "\n",
            "EPOCH 39:\tTraining loss : 0.375\tValidation loss : 0.374\n",
            "\n",
            "EPOCH 40:\tTraining loss : 0.374\tValidation loss : 0.373\n",
            "\n",
            "EPOCH 41:\tTraining loss : 0.374\tValidation loss : 0.373\n",
            "\n",
            "EPOCH 42:\tTraining loss : 0.374\tValidation loss : 0.373\n",
            "\n",
            "EPOCH 43:\tTraining loss : 0.374\tValidation loss : 0.373\n",
            "\n",
            "EPOCH 44:\tTraining loss : 0.374\tValidation loss : 0.373\n",
            "\n",
            "EPOCH 45:\tTraining loss : 0.374\tValidation loss : 0.373\n",
            "\n",
            "EPOCH 46:\tTraining loss : 0.374\tValidation loss : 0.372\n",
            "\n",
            "EPOCH 47:\tTraining loss : 0.373\tValidation loss : 0.372\n",
            "\n",
            "EPOCH 48:\tTraining loss : 0.373\tValidation loss : 0.372\n",
            "\n",
            "EPOCH 49:\tTraining loss : 0.373\tValidation loss : 0.372\n",
            "\n",
            "EPOCH 50:\tTraining loss : 0.373\tValidation loss : 0.372\n",
            "\n",
            "EPOCH 51:\tTraining loss : 0.373\tValidation loss : 0.372\n",
            "\n",
            "EPOCH 52:\tTraining loss : 0.373\tValidation loss : 0.372\n",
            "\n",
            "EPOCH 53:\tTraining loss : 0.373\tValidation loss : 0.371\n",
            "\n",
            "EPOCH 54:\tTraining loss : 0.372\tValidation loss : 0.371\n",
            "\n",
            "EPOCH 55:\tTraining loss : 0.372\tValidation loss : 0.371\n",
            "\n",
            "EPOCH 56:\tTraining loss : 0.372\tValidation loss : 0.371\n",
            "\n",
            "EPOCH 57:\tTraining loss : 0.372\tValidation loss : 0.371\n",
            "\n",
            "EPOCH 58:\tTraining loss : 0.372\tValidation loss : 0.371\n",
            "\n",
            "EPOCH 59:\tTraining loss : 0.372\tValidation loss : 0.371\n",
            "\n",
            "EPOCH 60:\tTraining loss : 0.372\tValidation loss : 0.371\n",
            "\n",
            "EPOCH 61:\tTraining loss : 0.372\tValidation loss : 0.371\n",
            "\n",
            "EPOCH 62:\tTraining loss : 0.371\tValidation loss : 0.370\n",
            "\n",
            "EPOCH 63:\tTraining loss : 0.371\tValidation loss : 0.370\n",
            "\n",
            "EPOCH 64:\tTraining loss : 0.371\tValidation loss : 0.370\n",
            "\n",
            "EPOCH 65:\tTraining loss : 0.371\tValidation loss : 0.370\n",
            "\n",
            "EPOCH 66:\tTraining loss : 0.371\tValidation loss : 0.370\n",
            "\n",
            "EPOCH 67:\tTraining loss : 0.371\tValidation loss : 0.370\n",
            "\n",
            "EPOCH 68:\tTraining loss : 0.371\tValidation loss : 0.370\n",
            "\n",
            "EPOCH 69:\tTraining loss : 0.371\tValidation loss : 0.370\n",
            "\n",
            "EPOCH 70:\tTraining loss : 0.371\tValidation loss : 0.370\n",
            "\n",
            "EPOCH 71:\tTraining loss : 0.370\tValidation loss : 0.369\n",
            "\n",
            "EPOCH 72:\tTraining loss : 0.370\tValidation loss : 0.369\n",
            "\n",
            "EPOCH 73:\tTraining loss : 0.370\tValidation loss : 0.369\n",
            "\n",
            "EPOCH 74:\tTraining loss : 0.370\tValidation loss : 0.369\n",
            "\n",
            "EPOCH 75:\tTraining loss : 0.370\tValidation loss : 0.369\n",
            "\n",
            "EPOCH 76:\tTraining loss : 0.370\tValidation loss : 0.369\n",
            "\n",
            "EPOCH 77:\tTraining loss : 0.370\tValidation loss : 0.369\n",
            "\n",
            "EPOCH 78:\tTraining loss : 0.370\tValidation loss : 0.369\n",
            "\n",
            "EPOCH 79:\tTraining loss : 0.370\tValidation loss : 0.369\n",
            "\n",
            "EPOCH 80:\tTraining loss : 0.370\tValidation loss : 0.369\n",
            "\n",
            "EPOCH 81:\tTraining loss : 0.370\tValidation loss : 0.369\n",
            "\n",
            "EPOCH 82:\tTraining loss : 0.370\tValidation loss : 0.369\n",
            "\n",
            "EPOCH 83:\tTraining loss : 0.369\tValidation loss : 0.368\n",
            "\n",
            "EPOCH 84:\tTraining loss : 0.369\tValidation loss : 0.368\n",
            "\n",
            "EPOCH 85:\tTraining loss : 0.369\tValidation loss : 0.368\n",
            "\n",
            "EPOCH 86:\tTraining loss : 0.369\tValidation loss : 0.368\n",
            "\n",
            "EPOCH 87:\tTraining loss : 0.369\tValidation loss : 0.368\n",
            "\n",
            "EPOCH 88:\tTraining loss : 0.369\tValidation loss : 0.368\n",
            "\n",
            "EPOCH 89:\tTraining loss : 0.369\tValidation loss : 0.368\n",
            "\n",
            "EPOCH 90:\tTraining loss : 0.369\tValidation loss : 0.368\n",
            "\n",
            "EPOCH 91:\tTraining loss : 0.369\tValidation loss : 0.368\n",
            "\n",
            "EPOCH 92:\tTraining loss : 0.369\tValidation loss : 0.368\n",
            "\n",
            "EPOCH 93:\tTraining loss : 0.369\tValidation loss : 0.368\n",
            "\n",
            "EPOCH 94:\tTraining loss : 0.369\tValidation loss : 0.368\n",
            "\n",
            "EPOCH 95:\tTraining loss : 0.369\tValidation loss : 0.368\n",
            "\n",
            "EPOCH 96:\tTraining loss : 0.369\tValidation loss : 0.368\n",
            "\n",
            "EPOCH 97:\tTraining loss : 0.369\tValidation loss : 0.368\n",
            "\n",
            "EPOCH 98:\tTraining loss : 0.368\tValidation loss : 0.367\n",
            "\n",
            "EPOCH 99:\tTraining loss : 0.368\tValidation loss : 0.367\n",
            "\n",
            "EPOCH 100:\tTraining loss : 0.368\tValidation loss : 0.367\n",
            "\n",
            "EPOCH 101:\tTraining loss : 0.368\tValidation loss : 0.367\n",
            "\n",
            "EPOCH 102:\tTraining loss : 0.368\tValidation loss : 0.367\n",
            "\n",
            "EPOCH 103:\tTraining loss : 0.368\tValidation loss : 0.367\n",
            "\n",
            "EPOCH 104:\tTraining loss : 0.368\tValidation loss : 0.367\n",
            "\n",
            "EPOCH 105:\tTraining loss : 0.368\tValidation loss : 0.367\n",
            "\n",
            "EPOCH 106:\tTraining loss : 0.368\tValidation loss : 0.367\n",
            "\n",
            "EPOCH 107:\tTraining loss : 0.368\tValidation loss : 0.367\n",
            "\n",
            "EPOCH 108:\tTraining loss : 0.368\tValidation loss : 0.367\n",
            "\n",
            "EPOCH 109:\tTraining loss : 0.368\tValidation loss : 0.367\n",
            "\n",
            "EPOCH 110:\tTraining loss : 0.368\tValidation loss : 0.367\n",
            "\n",
            "EPOCH 111:\tTraining loss : 0.368\tValidation loss : 0.367\n",
            "\n",
            "EPOCH 112:\tTraining loss : 0.368\tValidation loss : 0.367\n",
            "\n",
            "EPOCH 113:\tTraining loss : 0.368\tValidation loss : 0.367\n",
            "\n",
            "EPOCH 114:\tTraining loss : 0.368\tValidation loss : 0.367\n",
            "\n",
            "EPOCH 115:\tTraining loss : 0.368\tValidation loss : 0.367\n",
            "\n",
            "EPOCH 116:\tTraining loss : 0.368\tValidation loss : 0.367\n",
            "\n",
            "EPOCH 117:\tTraining loss : 0.368\tValidation loss : 0.367\n",
            "\n",
            "EPOCH 118:\tTraining loss : 0.367\tValidation loss : 0.367\n",
            "\n",
            "EPOCH 119:\tTraining loss : 0.367\tValidation loss : 0.366\n",
            "\n",
            "EPOCH 120:\tTraining loss : 0.367\tValidation loss : 0.366\n",
            "\n",
            "EPOCH 121:\tTraining loss : 0.367\tValidation loss : 0.366\n",
            "\n",
            "EPOCH 122:\tTraining loss : 0.367\tValidation loss : 0.366\n",
            "\n",
            "EPOCH 123:\tTraining loss : 0.367\tValidation loss : 0.366\n",
            "\n",
            "EPOCH 124:\tTraining loss : 0.367\tValidation loss : 0.366\n",
            "\n",
            "EPOCH 125:\tTraining loss : 0.367\tValidation loss : 0.366\n",
            "\n",
            "EPOCH 126:\tTraining loss : 0.367\tValidation loss : 0.366\n",
            "\n",
            "EPOCH 127:\tTraining loss : 0.367\tValidation loss : 0.366\n",
            "\n",
            "EPOCH 128:\tTraining loss : 0.367\tValidation loss : 0.366\n",
            "\n",
            "EPOCH 129:\tTraining loss : 0.367\tValidation loss : 0.366\n",
            "\n",
            "EPOCH 130:\tTraining loss : 0.367\tValidation loss : 0.366\n",
            "\n",
            "EPOCH 131:\tTraining loss : 0.367\tValidation loss : 0.366\n",
            "\n",
            "EPOCH 132:\tTraining loss : 0.367\tValidation loss : 0.366\n",
            "\n",
            "EPOCH 133:\tTraining loss : 0.367\tValidation loss : 0.366\n",
            "\n",
            "EPOCH 134:\tTraining loss : 0.367\tValidation loss : 0.366\n",
            "\n",
            "EPOCH 135:\tTraining loss : 0.367\tValidation loss : 0.366\n",
            "\n",
            "EPOCH 136:\tTraining loss : 0.367\tValidation loss : 0.366\n",
            "\n",
            "EPOCH 137:\tTraining loss : 0.367\tValidation loss : 0.366\n",
            "\n",
            "EPOCH 138:\tTraining loss : 0.367\tValidation loss : 0.366\n",
            "\n",
            "EPOCH 139:\tTraining loss : 0.367\tValidation loss : 0.366\n",
            "\n",
            "EPOCH 140:\tTraining loss : 0.367\tValidation loss : 0.366\n",
            "\n",
            "EPOCH 141:\tTraining loss : 0.367\tValidation loss : 0.366\n",
            "\n",
            "EPOCH 142:\tTraining loss : 0.367\tValidation loss : 0.366\n",
            "\n",
            "EPOCH 143:\tTraining loss : 0.367\tValidation loss : 0.366\n",
            "\n",
            "EPOCH 144:\tTraining loss : 0.367\tValidation loss : 0.366\n",
            "\n",
            "EPOCH 145:\tTraining loss : 0.367\tValidation loss : 0.366\n",
            "\n",
            "EPOCH 146:\tTraining loss : 0.367\tValidation loss : 0.366\n",
            "\n",
            "EPOCH 147:\tTraining loss : 0.367\tValidation loss : 0.366\n",
            "\n",
            "EPOCH 148:\tTraining loss : 0.367\tValidation loss : 0.366\n",
            "\n",
            "EPOCH 149:\tTraining loss : 0.367\tValidation loss : 0.366\n",
            "\n",
            "EPOCH 150:\tTraining loss : 0.366\tValidation loss : 0.366\n",
            "\n",
            "EPOCH 151:\tTraining loss : 0.366\tValidation loss : 0.366\n",
            "\n",
            "EPOCH 152:\tTraining loss : 0.366\tValidation loss : 0.365\n",
            "\n",
            "EPOCH 153:\tTraining loss : 0.366\tValidation loss : 0.365\n",
            "\n",
            "EPOCH 154:\tTraining loss : 0.366\tValidation loss : 0.365\n",
            "\n",
            "EPOCH 155:\tTraining loss : 0.366\tValidation loss : 0.365\n",
            "\n",
            "EPOCH 156:\tTraining loss : 0.366\tValidation loss : 0.365\n",
            "\n",
            "EPOCH 157:\tTraining loss : 0.366\tValidation loss : 0.365\n",
            "\n",
            "EPOCH 158:\tTraining loss : 0.366\tValidation loss : 0.365\n",
            "\n",
            "EPOCH 159:\tTraining loss : 0.366\tValidation loss : 0.365\n",
            "\n",
            "EPOCH 160:\tTraining loss : 0.366\tValidation loss : 0.365\n",
            "\n",
            "EPOCH 161:\tTraining loss : 0.366\tValidation loss : 0.365\n",
            "\n",
            "EPOCH 162:\tTraining loss : 0.366\tValidation loss : 0.365\n",
            "\n",
            "EPOCH 163:\tTraining loss : 0.366\tValidation loss : 0.365\n",
            "\n",
            "EPOCH 164:\tTraining loss : 0.366\tValidation loss : 0.365\n",
            "\n",
            "EPOCH 165:\tTraining loss : 0.366\tValidation loss : 0.365\n",
            "\n",
            "EPOCH 166:\tTraining loss : 0.366\tValidation loss : 0.365\n",
            "\n",
            "EPOCH 167:\tTraining loss : 0.366\tValidation loss : 0.365\n",
            "\n",
            "EPOCH 168:\tTraining loss : 0.366\tValidation loss : 0.365\n",
            "\n",
            "EPOCH 169:\tTraining loss : 0.366\tValidation loss : 0.365\n",
            "\n",
            "EPOCH 170:\tTraining loss : 0.366\tValidation loss : 0.365\n",
            "\n",
            "EPOCH 171:\tTraining loss : 0.366\tValidation loss : 0.365\n",
            "\n",
            "EPOCH 172:\tTraining loss : 0.366\tValidation loss : 0.365\n",
            "\n",
            "EPOCH 173:\tTraining loss : 0.366\tValidation loss : 0.365\n",
            "\n",
            "EPOCH 174:\tTraining loss : 0.366\tValidation loss : 0.365\n",
            "\n",
            "EPOCH 175:\tTraining loss : 0.366\tValidation loss : 0.365\n",
            "\n",
            "EPOCH 176:\tTraining loss : 0.366\tValidation loss : 0.365\n",
            "\n",
            "EPOCH 177:\tTraining loss : 0.366\tValidation loss : 0.365\n",
            "\n",
            "EPOCH 178:\tTraining loss : 0.366\tValidation loss : 0.365\n",
            "\n",
            "EPOCH 179:\tTraining loss : 0.366\tValidation loss : 0.365\n",
            "\n",
            "EPOCH 180:\tTraining loss : 0.366\tValidation loss : 0.365\n",
            "\n",
            "EPOCH 181:\tTraining loss : 0.366\tValidation loss : 0.365\n",
            "\n",
            "EPOCH 182:\tTraining loss : 0.366\tValidation loss : 0.365\n",
            "\n",
            "EPOCH 183:\tTraining loss : 0.366\tValidation loss : 0.365\n",
            "\n",
            "EPOCH 184:\tTraining loss : 0.366\tValidation loss : 0.365\n",
            "\n",
            "EPOCH 185:\tTraining loss : 0.366\tValidation loss : 0.365\n",
            "\n",
            "EPOCH 186:\tTraining loss : 0.366\tValidation loss : 0.365\n",
            "\n",
            "EPOCH 187:\tTraining loss : 0.366\tValidation loss : 0.365\n",
            "\n",
            "EPOCH 188:\tTraining loss : 0.366\tValidation loss : 0.365\n",
            "\n",
            "EPOCH 189:\tTraining loss : 0.366\tValidation loss : 0.365\n",
            "\n",
            "EPOCH 190:\tTraining loss : 0.366\tValidation loss : 0.365\n",
            "\n",
            "EPOCH 191:\tTraining loss : 0.366\tValidation loss : 0.365\n",
            "\n",
            "EPOCH 192:\tTraining loss : 0.366\tValidation loss : 0.365\n",
            "\n",
            "EPOCH 193:\tTraining loss : 0.366\tValidation loss : 0.365\n",
            "\n",
            "EPOCH 194:\tTraining loss : 0.366\tValidation loss : 0.365\n",
            "\n",
            "EPOCH 195:\tTraining loss : 0.366\tValidation loss : 0.365\n",
            "\n",
            "EPOCH 196:\tTraining loss : 0.366\tValidation loss : 0.365\n",
            "\n",
            "EPOCH 197:\tTraining loss : 0.366\tValidation loss : 0.365\n",
            "\n",
            "EPOCH 198:\tTraining loss : 0.366\tValidation loss : 0.365\n",
            "\n",
            "EPOCH 199:\tTraining loss : 0.366\tValidation loss : 0.365\n",
            "\n",
            "EPOCH 200:\tTraining loss : 0.366\tValidation loss : 0.365\n"
          ]
        }
      ]
    },
    {
      "cell_type": "code",
      "source": [
        "fig, ax = plt.subplots(2, 2, figsize=(12, 10))\n",
        "\n",
        "# Training Loss\n",
        "ax[0, 0].plot(train_losses)\n",
        "ax[0, 0].set_title('Training Loss')\n",
        "\n",
        "# Validation Loss\n",
        "ax[0, 1].plot(val_losses, color='orange')\n",
        "ax[0, 1].set_title('Validation Loss')\n",
        "\n",
        "# Training Accuracy\n",
        "ax[1, 0].plot(train_accs)\n",
        "ax[1, 0].set_title('Training Accuracy')\n",
        "\n",
        "# Validation Accuracy\n",
        "ax[1, 1].plot(val_accs, color='orange')\n",
        "ax[1, 1].set_title('Validation Accuracy')\n",
        "\n",
        "# Set common labels\n",
        "for i in range(2):\n",
        "    ax[0, i].set(xlabel='Epoch', ylabel='Loss')\n",
        "    ax[1, i].set(xlabel='Epoch', ylabel='Accuracy')\n",
        "\n",
        "plt.show()"
      ],
      "metadata": {
        "colab": {
          "base_uri": "https://localhost:8080/",
          "height": 807
        },
        "id": "g_AvQXW8_3Wx",
        "outputId": "ccb14c8b-dff0-4ea2-f7f4-6ecc44071ba6"
      },
      "execution_count": 49,
      "outputs": [
        {
          "output_type": "display_data",
          "data": {
            "text/plain": [
              "<Figure size 1200x1000 with 4 Axes>"
            ],
            "image/png": "[encoded data removed]"
          },
          "metadata": {}
        }
      ]
    },
    {
      "cell_type": "code",
      "source": [
        "val_set_acc = compute_accuracy(X_val, y_val, theta)\n",
        "test_set_acc = compute_accuracy(X_test, y_test, theta)\n",
        "\n",
        "print('Evaluation on validation and test set:')\n",
        "print(f'Validation Set Accuracy: {val_set_acc}')\n",
        "print(f'Test Set Accuracy: {test_set_acc}')\n"
      ],
      "metadata": {
        "colab": {
          "base_uri": "https://localhost:8080/"
        },
        "id": "AP1bZd3L_8M5",
        "outputId": "5ef3cd7c-9d8d-4394-e234-f37057b46f8a"
      },
      "execution_count": 50,
      "outputs": [
        {
          "output_type": "stream",
          "name": "stdout",
          "text": [
            "Evaluation on validation and test set:\n",
            "Validation Set Accuracy: 0.41071793822867664\n",
            "Test Set Accuracy: 0.4110429447852761\n"
          ]
        }
      ]
    }
  ]
}